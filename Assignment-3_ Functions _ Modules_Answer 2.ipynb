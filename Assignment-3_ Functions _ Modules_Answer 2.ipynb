{
 "cells": [
  {
   "cell_type": "markdown",
   "id": "03f6686e",
   "metadata": {},
   "source": [
    "# Write a Python program to reverse a string.\n",
    "\n",
    "# Sample String : \"1234abcd\"\n",
    "\n",
    "# Expected Output : \"dcba4321\""
   ]
  },
  {
   "cell_type": "code",
   "execution_count": 3,
   "id": "c93a5cdf",
   "metadata": {},
   "outputs": [
    {
     "name": "stdout",
     "output_type": "stream",
     "text": [
      "Please enter a string: Edyoda\n",
      "adoydE\n"
     ]
    }
   ],
   "source": [
    "value = input(\"Please enter a string: \")\n",
    "\n",
    "def rev_string(x):\n",
    "    return x[::-1]\n",
    "\n",
    "y = rev_string(value)\n",
    "\n",
    "print(y)"
   ]
  },
  {
   "cell_type": "code",
   "execution_count": null,
   "id": "97ca5879",
   "metadata": {},
   "outputs": [],
   "source": []
  }
 ],
 "metadata": {
  "kernelspec": {
   "display_name": "Python 3 (ipykernel)",
   "language": "python",
   "name": "python3"
  },
  "language_info": {
   "codemirror_mode": {
    "name": "ipython",
    "version": 3
   },
   "file_extension": ".py",
   "mimetype": "text/x-python",
   "name": "python",
   "nbconvert_exporter": "python",
   "pygments_lexer": "ipython3",
   "version": "3.10.9"
  }
 },
 "nbformat": 4,
 "nbformat_minor": 5
}
