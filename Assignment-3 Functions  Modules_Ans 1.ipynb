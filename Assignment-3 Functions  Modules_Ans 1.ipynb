{
 "cells": [
  {
   "cell_type": "markdown",
   "id": "2fe375d5",
   "metadata": {},
   "source": [
    "# Write a Python function to sum all the numbers in a list.\n",
    "\n",
    "# Sample List : (8, 2, 3, 0, 7)\n",
    "\n",
    "# Expected Output : 20\n",
    "\n",
    "\n",
    "# Explanation:\n",
    "\n",
    "# Summation should like 8+2+3+0+7 = 20"
   ]
  },
  {
   "cell_type": "code",
   "execution_count": 47,
   "id": "0458690f",
   "metadata": {},
   "outputs": [
    {
     "name": "stdout",
     "output_type": "stream",
     "text": [
      "Please enter a list of numbers:1,2,3,4,5,6,7,8,9\n",
      "1+2+3+4+5+6+7+8+9 = 45\n"
     ]
    }
   ],
   "source": [
    "value = eval(input(\"Please enter a list of numbers:\"))\n",
    "numbers = list(value)\n",
    "def sum(numbers):\n",
    "    total = 0\n",
    "    for x in numbers:\n",
    "        total += x\n",
    "    return total\n",
    "\n",
    "s=sum(numbers)\n",
    "y = '+'.join(map(str, numbers))\n",
    "print(y,\"=\", s)"
   ]
  },
  {
   "cell_type": "code",
   "execution_count": null,
   "id": "e632f99f",
   "metadata": {},
   "outputs": [],
   "source": []
  }
 ],
 "metadata": {
  "kernelspec": {
   "display_name": "Python 3 (ipykernel)",
   "language": "python",
   "name": "python3"
  },
  "language_info": {
   "codemirror_mode": {
    "name": "ipython",
    "version": 3
   },
   "file_extension": ".py",
   "mimetype": "text/x-python",
   "name": "python",
   "nbconvert_exporter": "python",
   "pygments_lexer": "ipython3",
   "version": "3.10.9"
  }
 },
 "nbformat": 4,
 "nbformat_minor": 5
}
